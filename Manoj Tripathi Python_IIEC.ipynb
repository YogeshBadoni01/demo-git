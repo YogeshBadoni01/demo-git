{
 "cells": [
  {
   "cell_type": "code",
   "execution_count": 1,
   "metadata": {},
   "outputs": [],
   "source": [
    "import os\n",
    "import pyttsx3\n",
    "from datetime import datetime"
   ]
  },
  {
   "cell_type": "code",
   "execution_count": 2,
   "metadata": {},
   "outputs": [
    {
     "name": "stdout",
     "output_type": "stream",
     "text": [
      "                                                                       Current Time !  2020-08-20 17:33:10.031520\n",
      " \"***********      what all you can do     ****************\" \n",
      "\n",
      "1: open chrome browser \n",
      "\n",
      "2: open notepad \n",
      "\n",
      "3: open windows media player \n",
      "\n",
      "4: open VLC player \n",
      "\n",
      "5: open command prompt \n",
      "\n",
      "6: check for specific modules \n",
      "\n",
      "7: check current directory/path \n",
      "\n",
      "8: to shutdown system \n",
      "\n",
      "9: to restart system \n",
      "\n",
      "10: to logout system \n",
      "\n",
      "11: terminamte the program \n",
      "\n",
      "Enter your requirements please type statement not numbers. : run notepad\n",
      "Enter your requirements please type statement not numbers. : exit\n",
      "Thank You......\n"
     ]
    }
   ],
   "source": [
    "pyttsx3.speak(\"Welcome User \")\n",
    "now = datetime.now() \n",
    "print(' '*70,\"Current Time ! \",now)\n",
    "line_s=\"\"\" \"***********      what all you can do     ****************\" \\n\n",
    "1: open chrome browser \\n\n",
    "2: open notepad \\n\n",
    "3: open windows media player \\n\n",
    "4: open VLC player \\n\n",
    "5: open command prompt \\n\n",
    "6: check for specific modules \\n\n",
    "7: check current directory/path \\n\n",
    "8: to shutdown system \\n\n",
    "9: to restart system \\n\n",
    "10: to logout system \\n\n",
    "11: terminamte the program \\n\"\"\"\n",
    "print(line_s)\n",
    "while True:\n",
    "    print(\"Enter your requirements please type statement not numbers. : \"  , end='')\n",
    "    p = input().lower()\n",
    "    \n",
    "    if (\"run\" in p)  and (\"chrome\" in p):\n",
    "      os.system(\"chrome\")\n",
    "\n",
    "    elif ((\"run\" in p) or  (\"execute\" in p )) and  ((\"notepad\" in p) or (\"editor\" in p) or ('open' in p) ) :\n",
    "      os.system(\"notepad\")\n",
    "\n",
    "    elif (\"run\" in p)  and (\"player\" in p) and (\"media\" in p):\n",
    "      os.system(\"wmplayer\")\n",
    "    \n",
    "    elif ('vlc' in p) and ('run' in p) or ('open' in p):\n",
    "      os.system('vlc')\n",
    "    \n",
    "    elif ('cmd' in p) and ('run' in p) or ('open' in p):\n",
    "      os.system(cmd)\n",
    "    \n",
    "    elif('name of os' in p) or ('tell os name' in p) or('display' in p):\n",
    "        print(os.name)\n",
    "        \n",
    "    elif(\"current dir\" in p) or (\"curren path\" in p):\n",
    "        print(os.getcwd())\n",
    "    \n",
    "    elif(\"turn off\" in p) or (\"shut down\" in p):\n",
    "        os.system(\"shutdown /s /t 1\")\n",
    "    \n",
    "    elif(\"restart\" in p) or (\"reopen\" in p):\n",
    "        os.system(\"shutdown /r /t 1\") \n",
    "    \n",
    "    elif(\"logout\" in p) or (\"logff\" in p) or ('sleep' in p):\n",
    "        os.system(\"shutdown -l\")\n",
    "    \n",
    "\n",
    "    elif  (\"exit\" in p)  or (\"quit\" in p) or (\"end\" in p):\n",
    "        print(\"Thank You......\")\n",
    "        break\n",
    "\n",
    "    else:\n",
    "      print(\"Sorry don't support try another one \\nTo close program type exit or end \")"
   ]
  },
  {
   "cell_type": "code",
   "execution_count": null,
   "metadata": {},
   "outputs": [],
   "source": []
  },
  {
   "cell_type": "code",
   "execution_count": null,
   "metadata": {},
   "outputs": [],
   "source": [
    "\n",
    "    \n",
    "    "
   ]
  },
  {
   "cell_type": "code",
   "execution_count": null,
   "metadata": {},
   "outputs": [],
   "source": []
  }
 ],
 "metadata": {
  "kernelspec": {
   "display_name": "Python 3",
   "language": "python",
   "name": "python3"
  },
  "language_info": {
   "codemirror_mode": {
    "name": "ipython",
    "version": 3
   },
   "file_extension": ".py",
   "mimetype": "text/x-python",
   "name": "python",
   "nbconvert_exporter": "python",
   "pygments_lexer": "ipython3",
   "version": "3.7.4"
  }
 },
 "nbformat": 4,
 "nbformat_minor": 2
}
